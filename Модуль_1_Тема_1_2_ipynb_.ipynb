{
  "nbformat": 4,
  "nbformat_minor": 0,
  "metadata": {
    "colab": {
      "provenance": []
    },
    "kernelspec": {
      "name": "python3",
      "display_name": "Python 3"
    },
    "language_info": {
      "name": "python"
    }
  },
  "cells": [
    {
      "cell_type": "markdown",
      "source": [
        "Задание 1. Напишите программу, которая принимает от пользователя два числа в виде строк, преобразует их в целые числа и выводит их сумму."
      ],
      "metadata": {
        "id": "lLjKljvBgIIB"
      }
    },
    {
      "cell_type": "code",
      "source": [],
      "metadata": {
        "id": "Q50ZMcWRiRoO"
      },
      "execution_count": null,
      "outputs": []
    },
    {
      "cell_type": "markdown",
      "source": [
        "Задание 2. Создайте программу, которая принимает число и выводит сообщение: \"Ваше число: {число}\", где число преобразовано в строку."
      ],
      "metadata": {
        "id": "jRMcl7nMiS6_"
      }
    },
    {
      "cell_type": "code",
      "source": [],
      "metadata": {
        "id": "PXdRRbAbiTVn"
      },
      "execution_count": null,
      "outputs": []
    },
    {
      "cell_type": "markdown",
      "source": [
        "Задание 3. Напишите программу, которая принимает на вход число с плавающей запятой и проверяет его тип."
      ],
      "metadata": {
        "id": "dki85UaZiT4f"
      }
    },
    {
      "cell_type": "code",
      "source": [],
      "metadata": {
        "id": "0b-xeP_NiUK3"
      },
      "execution_count": null,
      "outputs": []
    },
    {
      "cell_type": "markdown",
      "source": [
        "Задание 4. Получить остаток от деления a на b: если a = (156/14)^5, b =(88-23.7)/34.8"
      ],
      "metadata": {
        "id": "bCScvKS1iUYB"
      }
    },
    {
      "cell_type": "code",
      "source": [],
      "metadata": {
        "id": "kzVd7k6LiUgB"
      },
      "execution_count": null,
      "outputs": []
    },
    {
      "cell_type": "markdown",
      "source": [
        "Задание 5. Верны ли следующие утверждения: a > b, b <= c, c != b  если a = 2, b = 5, c = 5"
      ],
      "metadata": {
        "id": "1K4bswYWiUmx"
      }
    },
    {
      "cell_type": "markdown",
      "source": [
        " Ответ:"
      ],
      "metadata": {
        "id": "uLR2gXAtrGmC"
      }
    },
    {
      "cell_type": "markdown",
      "source": [
        "Задание 6. Вывести num=45956.5678485 со следующими параметрами: центрирование на 15, разделение тысяч запятой, ограничение десятичной части до 4 знака."
      ],
      "metadata": {
        "id": "2pV6vHnjrWN6"
      }
    },
    {
      "cell_type": "code",
      "source": [],
      "metadata": {
        "id": "ErKGHtjtiUtX"
      },
      "execution_count": null,
      "outputs": []
    },
    {
      "cell_type": "markdown",
      "source": [
        "*Задание 7. Напишите программу, которая строит пирамиду из звёздочек. Используйте символы ' ', *"
      ],
      "metadata": {
        "id": "iK4R_KbWsXPs"
      }
    },
    {
      "cell_type": "code",
      "source": [],
      "metadata": {
        "id": "FdRGdtM7zCVQ"
      },
      "execution_count": null,
      "outputs": []
    }
  ]
}